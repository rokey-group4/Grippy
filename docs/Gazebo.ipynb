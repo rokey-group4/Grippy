{
 "cells": [
  {
   "cell_type": "markdown",
   "id": "4e57d9cf",
   "metadata": {},
   "source": [
    "# Gazebo\n",
    "* ROS Version: Jazzy\n",
    "* OS: Ubuntu 24.04\n",
    "\n",
    "\n",
    ">다음 설정 및 기타 정보는 위의 환경이 설치되어 있다는 가정하에 진행됩니다."
   ]
  },
  {
   "cell_type": "markdown",
   "id": "2ce7ad4b",
   "metadata": {},
   "source": [
    "## Binary Installation on Ubuntu\n",
    "https://gazebosim.org/docs/harmonic/install_ubuntu/#binary-installation-on-ubuntu"
   ]
  },
  {
   "cell_type": "code",
   "execution_count": null,
   "id": "16d7235e",
   "metadata": {
    "vscode": {
     "languageId": "shellscript"
    }
   },
   "outputs": [],
   "source": [
    "sudo apt-get update\n",
    "sudo apt-get install curl lsb-release gnupg"
   ]
  },
  {
   "cell_type": "code",
   "execution_count": null,
   "id": "f84596cc",
   "metadata": {
    "vscode": {
     "languageId": "shellscript"
    }
   },
   "outputs": [],
   "source": [
    "sudo curl https://packages.osrfoundation.org/gazebo.gpg --output /usr/share/keyrings/pkgs-osrf-archive-keyring.gpg\n",
    "echo \"deb [arch=$(dpkg --print-architecture) signed-by=/usr/share/keyrings/pkgs-osrf-archive-keyring.gpg] http://packages.osrfoundation.org/gazebo/ubuntu-stable $(lsb_release -cs) main\" | sudo tee /etc/apt/sources.list.d/gazebo-stable.list > /dev/null\n",
    "sudo apt-get update\n",
    "sudo apt-get install gz-harmonic\n",
    "sudo apt-get install ros-jazzy-ros-gz\n",
    "sudo apt-get install ros-jazzy-joint-state-publisher-gui"
   ]
  },
  {
   "cell_type": "markdown",
   "id": "5c13b39e",
   "metadata": {},
   "source": [
    "## Uninstalling binary install"
   ]
  },
  {
   "cell_type": "code",
   "execution_count": null,
   "id": "de768047",
   "metadata": {
    "vscode": {
     "languageId": "shellscript"
    }
   },
   "outputs": [],
   "source": [
    "sudo apt remove gz-harmonic && sudo apt autoremove"
   ]
  },
  {
   "cell_type": "markdown",
   "id": "92703482",
   "metadata": {},
   "source": [
    "## Get Started\n",
    "https://gazebosim.org/docs/harmonic/getstarted/"
   ]
  },
  {
   "cell_type": "code",
   "execution_count": null,
   "id": "62c5946f",
   "metadata": {
    "vscode": {
     "languageId": "shellscript"
    }
   },
   "outputs": [],
   "source": [
    "gz sim shapes.sdf  # Fortress uses \"ign gazebo\" instead of \"gz sim\""
   ]
  },
  {
   "cell_type": "markdown",
   "id": "81650110",
   "metadata": {},
   "source": [
    "---"
   ]
  },
  {
   "cell_type": "markdown",
   "id": "290b9e80",
   "metadata": {},
   "source": [
    "### `gz sim` 실행 후 깜빡이는 이슈가 있다면\n",
    "\n",
    "\n"
   ]
  },
  {
   "cell_type": "markdown",
   "id": "d7213c57",
   "metadata": {},
   "source": [
    "VMWare\n",
    "* Settings > Display > 3D Graphics > Accelerate 3D Graphics(비활성화화)"
   ]
  },
  {
   "cell_type": "markdown",
   "id": "e7013065",
   "metadata": {},
   "source": [
    "---"
   ]
  },
  {
   "cell_type": "markdown",
   "id": "f9987994",
   "metadata": {},
   "source": [
    "## 추가 참조 자료\n",
    "https://www.youtube.com/watch?v=rg5crcz0ukk&t=285s\n",
    "\n",
    "\n",
    "https://github.com/PinkWink/for_ROS2_study/blob/main/R2R%20%EC%8B%AC%ED%99%94%ED%8E%B8%20gazebo%20tutorials/building_robot.sdf"
   ]
  }
 ],
 "metadata": {
  "language_info": {
   "name": "python"
  }
 },
 "nbformat": 4,
 "nbformat_minor": 5
}
