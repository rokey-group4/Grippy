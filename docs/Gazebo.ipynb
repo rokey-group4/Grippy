{
 "cells": [
  {
   "cell_type": "markdown",
   "id": "4e57d9cf",
   "metadata": {},
   "source": [
    "# Gazebo\n",
    "* ROS Version: Humble\n",
    "* OS: Ubuntu 22.04\n",
    "\n",
    "\n",
    ">다음 설정 및 기타 정보는 위의 환경이 설치되어 있다는 가정하에 진행됩니다."
   ]
  },
  {
   "cell_type": "markdown",
   "id": "2ce7ad4b",
   "metadata": {},
   "source": [
    "## Binary Installation on Ubuntu\n",
    "https://gazebosim.org/docs/harmonic/install_ubuntu/#binary-installation-on-ubuntu"
   ]
  },
  {
   "cell_type": "code",
   "execution_count": null,
   "id": "16d7235e",
   "metadata": {
    "vscode": {
     "languageId": "shellscript"
    }
   },
   "outputs": [],
   "source": [
    "sudo apt-get update\n",
    "sudo apt-get install curl lsb-release gnupg"
   ]
  },
  {
   "cell_type": "code",
   "execution_count": null,
   "id": "f84596cc",
   "metadata": {
    "vscode": {
     "languageId": "shellscript"
    }
   },
   "outputs": [],
   "source": [
    "sudo curl https://packages.osrfoundation.org/gazebo.gpg --output /usr/share/keyrings/pkgs-osrf-archive-keyring.gpg\n",
    "echo \"deb [arch=$(dpkg --print-architecture) signed-by=/usr/share/keyrings/pkgs-osrf-archive-keyring.gpg] http://packages.osrfoundation.org/gazebo/ubuntu-stable $(lsb_release -cs) main\" | sudo tee /etc/apt/sources.list.d/gazebo-stable.list > /dev/null\n",
    "sudo apt-get update\n",
    "sudo apt-get install gz-harmonic"
   ]
  },
  {
   "cell_type": "markdown",
   "id": "5c13b39e",
   "metadata": {},
   "source": [
    "## Uninstalling binary install"
   ]
  },
  {
   "cell_type": "code",
   "execution_count": null,
   "id": "de768047",
   "metadata": {
    "vscode": {
     "languageId": "shellscript"
    }
   },
   "outputs": [],
   "source": [
    "sudo apt remove gz-harmonic && sudo apt autoremove"
   ]
  },
  {
   "cell_type": "markdown",
   "id": "92703482",
   "metadata": {},
   "source": [
    "## Get Started\n",
    "https://gazebosim.org/docs/harmonic/getstarted/"
   ]
  },
  {
   "cell_type": "code",
   "execution_count": null,
   "id": "62c5946f",
   "metadata": {
    "vscode": {
     "languageId": "shellscript"
    }
   },
   "outputs": [],
   "source": [
    "gz sim shapes.sdf  # Fortress uses \"ign gazebo\" instead of \"gz sim\""
   ]
  }
 ],
 "metadata": {
  "language_info": {
   "name": "python"
  }
 },
 "nbformat": 4,
 "nbformat_minor": 5
}
